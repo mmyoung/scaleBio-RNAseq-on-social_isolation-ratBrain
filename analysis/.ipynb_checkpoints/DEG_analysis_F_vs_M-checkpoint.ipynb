{
 "cells": [
  {
   "cell_type": "code",
   "execution_count": null,
   "id": "c918651d-4fa0-4afc-9632-787aee36c0e5",
   "metadata": {
    "vscode": {
     "languageId": "r"
    }
   },
   "outputs": [],
   "source": [
    "library(Seurat)\n",
    "library(ggplot2)\n",
    "library(dplyr)\n",
    "library(patchwork)\n",
    "library(stringr)\n",
    "library(ggplot2)"
   ]
  },
  {
   "cell_type": "code",
   "execution_count": null,
   "id": "2d96d1a4-a6ed-4aeb-93c1-538bc9c0ca37",
   "metadata": {},
   "outputs": [],
   "source": [
    "# https://drive.google.com/file/d/1XbDy0A_rLt-kTDQvtqyCCGJ__qxdym7e/view?usp=drive_link\n",
    "pseudo_seu <- readRDS(file = \"./pseudo_Seu_obj_2.rds\")"
   ]
  },
  {
   "cell_type": "markdown",
   "id": "27e4ca9b-95f9-48bd-b2e3-6a37dd96966b",
   "metadata": {},
   "source": [
    "## perform DEG analysis on sex"
   ]
  },
  {
   "cell_type": "code",
   "execution_count": 121,
   "id": "96a68ec7-d6e2-4d04-9054-bfd7424426a1",
   "metadata": {},
   "outputs": [],
   "source": [
    "pseudo_seu$sex <- stringr::str_split(pseudo_seu$sample_name,\"-\",simplify = T)[,2]\n",
    "pseudo_seu$celltype.sex <- paste(pseudo_seu$celltype,pseudo_seu$sex,sep = \"_\")\n",
    "pseudo_seu$group.celltype.sex <- paste(str_split(pseudo_seu$sample_name,\"-\",simplify = T)[,1],\n",
    "                                 pseudo_seu$celltype.sex,sep = \"_\")\n"
   ]
  },
  {
   "cell_type": "code",
   "execution_count": null,
   "id": "4c2e2ee7-da23-4336-9cb6-bbb20e02a617",
   "metadata": {
    "scrolled": true
   },
   "outputs": [],
   "source": [
    "Idents(pseudo_seu) <- \"group.celltype.sex\"\n",
    "pseudo_de_sex <- list()\n",
    "for(i in unique(pseudo_seu$celltype)){\n",
    "    for(j in c(\"iso\",\"soc\")){\n",
    "        bulk.de <- FindMarkers(object = pseudo_seu,\n",
    "                              ident.1 = paste0(j,\"_\",i,\"_F\"),\n",
    "                              ident.2 = paste0(j,\"_\",i,\"_M\"),\n",
    "                               test.use = \"DESeq2\")\n",
    "    \n",
    "        pseudo_de_sex[[paste0(i,\"_\",j)]] <- bulk.de\n",
    "    }\n",
    "    \n",
    "}"
   ]
  },
  {
   "cell_type": "code",
   "execution_count": 68,
   "id": "0c746433-f0ee-4a72-a951-3370fe941e8a",
   "metadata": {},
   "outputs": [],
   "source": [
    "filename = str_replace_all(string =names(pseudo_de_sex) ,pattern = \"\\\\/\" ,replacement = \"\")"
   ]
  },
  {
   "cell_type": "code",
   "execution_count": null,
   "id": "61a55764-ecc3-4e39-929c-548cfe110154",
   "metadata": {
    "scrolled": true
   },
   "outputs": [],
   "source": [
    "## save all gene list\n",
    "lapply(seq_len(length(names(pseudo_de_sex))),function(x){\n",
    "            pseudo_de_sex[[x]] %>%\n",
    "            write.table(,file=paste0(\"./FvsM_FC0.3.DEG.list_2/\",filename[x],\"_F_vs_M_total_gene.xls\"),sep=\"\\t\",quote=F)\n",
    "    }  \n",
    ")"
   ]
  },
  {
   "cell_type": "code",
   "execution_count": null,
   "id": "a6ab6219-bdb4-42db-bb05-00d7c7aae5bc",
   "metadata": {
    "scrolled": true
   },
   "outputs": [],
   "source": [
    "lapply(seq_len(length(names(pseudo_de_sex))), function(x) {\n",
    "    if (sum(pseudo_de_sex[[x]]$p_val_adj < 0.05 & abs(pseudo_de_sex[[x]]$avg_log2FC) > 0.3,na.rm = TRUE) > 0) {\n",
    "        filtered_data <- pseudo_de_sex[[x]] %>%\n",
    "            filter(p_val_adj < 0.05, abs(avg_log2FC) > 0.3)\n",
    "        \n",
    "        write.table(filtered_data, \n",
    "                    file = paste0(\"./FvsM_FC0.3.DEG.list_2/\", filename[x], \"_F_vs_M_DEG.xls\"), \n",
    "                    sep = \"\\t\", \n",
    "                    quote = FALSE, \n",
    "                    row.names = TRUE)\n",
    "    }\n",
    "})"
   ]
  },
  {
   "cell_type": "code",
   "execution_count": 125,
   "id": "3b9845b4-7500-4a3a-b43e-eb009d9b886b",
   "metadata": {},
   "outputs": [],
   "source": [
    "saveRDS(pseudo_de_sex,file = \"./pseudo_sex_DESeq2_DEG_2.rds\")"
   ]
  },
  {
   "cell_type": "code",
   "execution_count": 1,
   "id": "3b7faebc-318c-4faa-8b35-ad50e786879f",
   "metadata": {},
   "outputs": [],
   "source": [
    "pseudo_de_sex <- readRDS(file = \"./pseudo_sex_DESeq2_DEG_2.rds\")"
   ]
  },
  {
   "cell_type": "markdown",
   "id": "654ec017-391a-443e-bf57-237527fbce95",
   "metadata": {},
   "source": [
    "## GO analysis for sex group DEGS"
   ]
  },
  {
   "cell_type": "code",
   "execution_count": null,
   "id": "711e3c3e-f3b8-437f-9cc5-83116d1a5525",
   "metadata": {
    "scrolled": true
   },
   "outputs": [],
   "source": [
    "DEG_ls <- lapply(pseudo_de_sex, function(x){ x %>% filter(p_val_adj<0.05,abs(avg_log2FC) >0.3) %>% row.names()})\n",
    "names(DEG_ls) = str_replace_all(string =names(DEG_ls) ,pattern = \"\\\\/\" ,replacement = \"\")\n",
    "GO_ls <- list()\n",
    "for(i in seq_len(length(DEG_ls))){\n",
    "    if(length(DEG_ls[[i]])>5){\n",
    "           go_res <- enrichGO(DEG_ls[[i]],OrgDb=org.Rn.eg.db,keyType=\"SYMBOL\",ont=\"BP\",pvalueCutoff  = 0.05, qvalueCutoff  = 1)\n",
    "          if(!is.null(go_res@result)){\n",
    "              GO_ls[names(DEG_ls)[i]] <- go_res\n",
    "          }\n",
    "           }\n",
    "}\n",
    "cp_GO_ls <- GO_ls\n",
    "\n",
    "write.xlsx(lapply(cp_GO_ls,function(df){df@result}),file=\"./FvsM_DEG_GO_2/FvsM_DEG_FC0.3_GO.xlsx\",asTable=T)\n"
   ]
  },
  {
   "cell_type": "code",
   "execution_count": null,
   "id": "6aa2c826-09a2-4ca6-93ea-4d7e70aa737d",
   "metadata": {
    "scrolled": true
   },
   "outputs": [],
   "source": [
    "pdf(\"/project/zhuzhuzhang/lyang/scaleBio_RNA_rat_brain/out_mRatBN/FvsM_DEG_GO_2/FvsM_DEG_FC0.3_GO_dotplot.pdf\",onefile=TRUE)\n",
    "lapply(seq_along(GO_ls),\n",
    "       function(i){\n",
    "           if(!is.null(GO_ls[[i]])){\n",
    "           if(dim(GO_ls[[i]]@result)[1]>0){\n",
    "               if(sum(GO_ls[[i]]@result$p.adjust<0.05)>0){\n",
    "                   GO_ls[[i]]@result %>%\n",
    "                   filter(p.adjust<0.05) %>%\n",
    "                       mutate(ratio=as.numeric(str_split(GeneRatio,\"/\",simplify=T)[,1])/as.numeric(str_split(GeneRatio,\"/\",simplify=T)[,2])) %>%\n",
    "                       slice_head(n=15) %>%\n",
    "                        arrange(ratio) %>%\n",
    "                        mutate(Description=factor(Description,levels=Description)) %>%\n",
    "                       ggplot(aes(x=ratio,y=Description))+\n",
    "                       geom_point(aes(color=p.adjust,size=ratio))+\n",
    "                       labs(title=paste0(names(GO_ls)[i],\" \",\"F vs M \",\"(\",length(DEG_ls[[i]]) ,\")\"))+\n",
    "                       scale_y_discrete(labels = function(x) str_wrap(x, width = 50))+\n",
    "                        scale_color_viridis(option = \"D\")\n",
    "                   }\n",
    "               \n",
    "           }\n",
    "            }\n",
    "           }\n",
    ")\n",
    "dev.off()"
   ]
  },
  {
   "cell_type": "code",
   "execution_count": null,
   "id": "b5e47663-80dd-4484-b173-856b6c40152a",
   "metadata": {},
   "outputs": [],
   "source": []
  }
 ],
 "metadata": {
  "kernelspec": {
   "display_name": "Python 3 (ipykernel)",
   "language": "python",
   "name": "python3"
  },
  "language_info": {
   "codemirror_mode": {
    "name": "ipython",
    "version": 3
   },
   "file_extension": ".py",
   "mimetype": "text/x-python",
   "name": "python",
   "nbconvert_exporter": "python",
   "pygments_lexer": "ipython3",
   "version": "3.11.6"
  }
 },
 "nbformat": 4,
 "nbformat_minor": 5
}
